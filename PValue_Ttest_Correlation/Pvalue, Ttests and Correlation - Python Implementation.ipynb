{
 "cells": [
  {
   "cell_type": "markdown",
   "id": "ca908eb1",
   "metadata": {},
   "source": [
    "## T-test\n",
    "- A statistical test used to compare  the means of two groups and determine if there's a siginificant difference between them\n",
    "- There are two types of t-tests\n",
    "    - one sample t-test (independent)\n",
    "    - two sample t-test (paired)"
   ]
  },
  {
   "cell_type": "markdown",
   "id": "d018bd9b",
   "metadata": {},
   "source": [
    "### Independent T-test"
   ]
  },
  {
   "cell_type": "code",
   "execution_count": 1,
   "id": "76ae792d",
   "metadata": {},
   "outputs": [],
   "source": [
    "import numpy as np\n",
    "from scipy import stats\n",
    "import pandas as pd\n",
    "import seaborn as sns"
   ]
  },
  {
   "cell_type": "code",
   "execution_count": 2,
   "id": "02b8db2e",
   "metadata": {},
   "outputs": [
    {
     "name": "stdout",
     "output_type": "stream",
     "text": [
      "72.15789473684211\n"
     ]
    }
   ],
   "source": [
    "#calculate the mean of scores\n",
    "\n",
    "scores = [80, 70, 92, 77, 65, 42, 89, 76, 44, 58, 93, 82, 55, 20, 94, 67, 84, 90, 93]\n",
    "\n",
    "scores_mean = np.mean(scores)\n",
    "print(scores_mean)"
   ]
  },
  {
   "cell_type": "code",
   "execution_count": 3,
   "id": "5589fce0",
   "metadata": {},
   "outputs": [
    {
     "name": "stdout",
     "output_type": "stream",
     "text": [
      "[84 77 82 55 44 70 76]\n"
     ]
    }
   ],
   "source": [
    "#Get a sample size from the scores list\n",
    "\n",
    "sample_size = 7\n",
    "\n",
    "scores_sample = np.random.choice(scores, sample_size)\n",
    "print(scores_sample)"
   ]
  },
  {
   "cell_type": "code",
   "execution_count": 4,
   "id": "a1b6a72c",
   "metadata": {},
   "outputs": [
    {
     "name": "stdout",
     "output_type": "stream",
     "text": [
      "69.71428571428571\n"
     ]
    }
   ],
   "source": [
    "print(np.mean(scores_sample))"
   ]
  },
  {
   "cell_type": "markdown",
   "id": "54f6abb9",
   "metadata": {},
   "source": [
    "### Is there a statistical difference between the means of the scores and sample score data?\n",
    "With a significance level of 0.05 (5%)\n",
    "- Null Hypotheis: There is no difference\n",
    "- Alternate Hypothesis: There is a difference"
   ]
  },
  {
   "cell_type": "code",
   "execution_count": 5,
   "id": "13c8e007",
   "metadata": {},
   "outputs": [
    {
     "name": "stdout",
     "output_type": "stream",
     "text": [
      "0.6787806837129693\n",
      "Fail to reject the alternate hypothesis\n"
     ]
    }
   ],
   "source": [
    "ttest, pvalue = stats.ttest_1samp(scores_sample, np.mean(scores))\n",
    "print(pvalue)\n",
    "\n",
    "if pvalue < 0.05:\n",
    "    print('Reject the null hypothesis')\n",
    "else:\n",
    "    print('Fail to reject the alternate hypothesis')"
   ]
  },
  {
   "cell_type": "markdown",
   "id": "7e1316ee",
   "metadata": {},
   "source": [
    "### Paired T-test"
   ]
  },
  {
   "cell_type": "markdown",
   "id": "7bf61e8d",
   "metadata": {},
   "source": [
    "### Is there a statistical difference between the scores of the two classes?\n",
    "With a significance level of 0.05 (5%)\n",
    "- Null Hypotheis: There is no difference\n",
    "- Alternate Hypothesis: There is a difference"
   ]
  },
  {
   "cell_type": "code",
   "execution_count": 6,
   "id": "8e6aa35e",
   "metadata": {},
   "outputs": [],
   "source": [
    "#get the scores for classes a and b\n",
    "\n",
    "scores_class_a = stats.poisson.rvs(loc=45, mu=70, size=60)\n",
    "scores_class_b = stats.poisson.rvs(loc=55, mu=70, size=65)"
   ]
  },
  {
   "cell_type": "code",
   "execution_count": 7,
   "id": "b2b52fb5",
   "metadata": {},
   "outputs": [
    {
     "name": "stdout",
     "output_type": "stream",
     "text": [
      "1.891475960453864e-12\n",
      "Reject the null hypothesis\n"
     ]
    }
   ],
   "source": [
    "#calculate the t-test\n",
    "\n",
    "_, pvalue = stats.ttest_ind(a=scores_class_a, b=scores_class_b, equal_var=False)\n",
    "print(pvalue)\n",
    "\n",
    "if pvalue < 0.05:\n",
    "    print('Reject the null hypothesis')\n",
    "else:\n",
    "    print('Fail to reject the alternate hypothesis')"
   ]
  },
  {
   "cell_type": "markdown",
   "id": "0d155172",
   "metadata": {},
   "source": [
    "#### Related data"
   ]
  },
  {
   "cell_type": "code",
   "execution_count": 8,
   "id": "d8592325",
   "metadata": {},
   "outputs": [],
   "source": [
    "#get the scores and then adjust the scores\n",
    "scores_class_c = stats.poisson.rvs(loc=45, mu=70, size=60)\n",
    "adjusted_scores_class_c = scores_class_c + stats.norm.rvs(scale=5, loc=5, size=60)"
   ]
  },
  {
   "cell_type": "code",
   "execution_count": 9,
   "id": "98c387d6",
   "metadata": {},
   "outputs": [
    {
     "name": "stdout",
     "output_type": "stream",
     "text": [
      "[127 113 120 112 118 111 110 114 120 112  96 104 136 115 116 119 108 114\n",
      " 100 110 119 120 120 113 113 122 113 122 124 107 125 114 101 115 110 129\n",
      " 121 132 114 120 134 102 123 107  94 126 116  98 124 111 114 115 133 106\n",
      " 115 108 120 131 116 123]\n",
      "[134.89741732 115.55563577 125.74826423 111.67196107 127.11914972\n",
      " 122.21916272 121.39898415 124.63213812 142.53364983 118.97658059\n",
      " 103.27243315 119.47933488 138.35899649 125.7872     123.96538476\n",
      " 122.41860542 118.29268219 114.43708878  97.31689249 111.08857689\n",
      " 121.84161971 117.80333071 123.32993089 112.96270674 114.95975354\n",
      " 126.51621676 111.74201815 129.62232653 128.17261103 109.78692241\n",
      " 123.81569919 128.06534995 103.36963923 118.11709625 120.75339495\n",
      " 139.89171935 120.01106693 126.8302743  124.24281181 132.7852369\n",
      " 146.30253302 103.17082557 133.08414056 117.96211796  99.23008124\n",
      " 130.65837459 122.57740783 102.78687096 129.39217643 115.18126955\n",
      " 119.53774288 127.40785567 138.76660588 114.58231961 112.64549763\n",
      " 109.23225782 124.20315355 142.15399901 130.14503852 130.40300126]\n"
     ]
    }
   ],
   "source": [
    "print(scores_class_c)\n",
    "print(adjusted_scores_class_c)"
   ]
  },
  {
   "cell_type": "markdown",
   "id": "916919e3",
   "metadata": {},
   "source": [
    "### Is there a statistical difference between the two scores afted adjusting?\n",
    "With a significance level of 0.05 (5%)\n",
    "- Null Hypotheis: There is no difference\n",
    "- Alternate Hypothesis: There is a difference"
   ]
  },
  {
   "cell_type": "code",
   "execution_count": 10,
   "id": "37317c84",
   "metadata": {},
   "outputs": [
    {
     "name": "stdout",
     "output_type": "stream",
     "text": [
      "4.37480849691546e-12\n",
      "Reject the null hypothesis\n"
     ]
    }
   ],
   "source": [
    "#calculate the t-test\n",
    "\n",
    "_, pvalue = stats.ttest_rel(a=scores_class_c, b=adjusted_scores_class_c)\n",
    "print(pvalue)\n",
    "\n",
    "if pvalue < 0.05:\n",
    "    print('Reject the null hypothesis')\n",
    "else:\n",
    "    print('Fail to reject the alternate hypothesis')"
   ]
  },
  {
   "cell_type": "markdown",
   "id": "84f55d2a",
   "metadata": {},
   "source": [
    "## Correlation\n",
    "- Correlation is a statistical measure that measures the extent to which variables are related t each other.\n",
    "- A figure closer to 1 means variables are closely corelated while a figure closer to 0 means varibles are not corelated\n",
    "- Positive correlation means varibale move in the same direction, increase in value in one variable is associated with increase in value of the other variable\n",
    "- Negative correlation means varibale move in the opposite direction, increase in value in one variable is associated with decrease in value of the other variable"
   ]
  },
  {
   "cell_type": "code",
   "execution_count": 11,
   "id": "797fe366",
   "metadata": {},
   "outputs": [
    {
     "data": {
      "text/html": [
       "<div>\n",
       "<style scoped>\n",
       "    .dataframe tbody tr th:only-of-type {\n",
       "        vertical-align: middle;\n",
       "    }\n",
       "\n",
       "    .dataframe tbody tr th {\n",
       "        vertical-align: top;\n",
       "    }\n",
       "\n",
       "    .dataframe thead th {\n",
       "        text-align: right;\n",
       "    }\n",
       "</style>\n",
       "<table border=\"1\" class=\"dataframe\">\n",
       "  <thead>\n",
       "    <tr style=\"text-align: right;\">\n",
       "      <th></th>\n",
       "      <th>Unnamed: 0</th>\n",
       "      <th>user id</th>\n",
       "      <th>test group</th>\n",
       "      <th>converted</th>\n",
       "      <th>total ads</th>\n",
       "      <th>most ads day</th>\n",
       "      <th>most ads hour</th>\n",
       "    </tr>\n",
       "  </thead>\n",
       "  <tbody>\n",
       "    <tr>\n",
       "      <th>0</th>\n",
       "      <td>0</td>\n",
       "      <td>1069124</td>\n",
       "      <td>ad</td>\n",
       "      <td>False</td>\n",
       "      <td>130</td>\n",
       "      <td>Monday</td>\n",
       "      <td>20</td>\n",
       "    </tr>\n",
       "    <tr>\n",
       "      <th>1</th>\n",
       "      <td>1</td>\n",
       "      <td>1119715</td>\n",
       "      <td>ad</td>\n",
       "      <td>False</td>\n",
       "      <td>93</td>\n",
       "      <td>Tuesday</td>\n",
       "      <td>22</td>\n",
       "    </tr>\n",
       "    <tr>\n",
       "      <th>2</th>\n",
       "      <td>2</td>\n",
       "      <td>1144181</td>\n",
       "      <td>ad</td>\n",
       "      <td>False</td>\n",
       "      <td>21</td>\n",
       "      <td>Tuesday</td>\n",
       "      <td>18</td>\n",
       "    </tr>\n",
       "    <tr>\n",
       "      <th>3</th>\n",
       "      <td>3</td>\n",
       "      <td>1435133</td>\n",
       "      <td>ad</td>\n",
       "      <td>False</td>\n",
       "      <td>355</td>\n",
       "      <td>Tuesday</td>\n",
       "      <td>10</td>\n",
       "    </tr>\n",
       "    <tr>\n",
       "      <th>4</th>\n",
       "      <td>4</td>\n",
       "      <td>1015700</td>\n",
       "      <td>ad</td>\n",
       "      <td>False</td>\n",
       "      <td>276</td>\n",
       "      <td>Friday</td>\n",
       "      <td>14</td>\n",
       "    </tr>\n",
       "  </tbody>\n",
       "</table>\n",
       "</div>"
      ],
      "text/plain": [
       "   Unnamed: 0  user id test group  converted  total ads most ads day  \\\n",
       "0           0  1069124         ad      False        130       Monday   \n",
       "1           1  1119715         ad      False         93      Tuesday   \n",
       "2           2  1144181         ad      False         21      Tuesday   \n",
       "3           3  1435133         ad      False        355      Tuesday   \n",
       "4           4  1015700         ad      False        276       Friday   \n",
       "\n",
       "   most ads hour  \n",
       "0             20  \n",
       "1             22  \n",
       "2             18  \n",
       "3             10  \n",
       "4             14  "
      ]
     },
     "execution_count": 11,
     "metadata": {},
     "output_type": "execute_result"
    }
   ],
   "source": [
    "#load data\n",
    "\n",
    "df = pd.read_csv('marketing.csv')\n",
    "df.head()"
   ]
  },
  {
   "cell_type": "code",
   "execution_count": 12,
   "id": "ad2ce0a8",
   "metadata": {},
   "outputs": [
    {
     "data": {
      "text/html": [
       "<div>\n",
       "<style scoped>\n",
       "    .dataframe tbody tr th:only-of-type {\n",
       "        vertical-align: middle;\n",
       "    }\n",
       "\n",
       "    .dataframe tbody tr th {\n",
       "        vertical-align: top;\n",
       "    }\n",
       "\n",
       "    .dataframe thead th {\n",
       "        text-align: right;\n",
       "    }\n",
       "</style>\n",
       "<table border=\"1\" class=\"dataframe\">\n",
       "  <thead>\n",
       "    <tr style=\"text-align: right;\">\n",
       "      <th></th>\n",
       "      <th>total ads</th>\n",
       "      <th>most ads hour</th>\n",
       "    </tr>\n",
       "  </thead>\n",
       "  <tbody>\n",
       "    <tr>\n",
       "      <th>0</th>\n",
       "      <td>130</td>\n",
       "      <td>20</td>\n",
       "    </tr>\n",
       "    <tr>\n",
       "      <th>1</th>\n",
       "      <td>93</td>\n",
       "      <td>22</td>\n",
       "    </tr>\n",
       "    <tr>\n",
       "      <th>2</th>\n",
       "      <td>21</td>\n",
       "      <td>18</td>\n",
       "    </tr>\n",
       "    <tr>\n",
       "      <th>3</th>\n",
       "      <td>355</td>\n",
       "      <td>10</td>\n",
       "    </tr>\n",
       "    <tr>\n",
       "      <th>4</th>\n",
       "      <td>276</td>\n",
       "      <td>14</td>\n",
       "    </tr>\n",
       "  </tbody>\n",
       "</table>\n",
       "</div>"
      ],
      "text/plain": [
       "   total ads  most ads hour\n",
       "0        130             20\n",
       "1         93             22\n",
       "2         21             18\n",
       "3        355             10\n",
       "4        276             14"
      ]
     },
     "execution_count": 12,
     "metadata": {},
     "output_type": "execute_result"
    }
   ],
   "source": [
    "#drop columns unnamed and user id\n",
    "\n",
    "df = df.drop(columns = ['Unnamed: 0', 'user id', 'test group', 'most ads day', 'converted'])\n",
    "df.head()"
   ]
  },
  {
   "cell_type": "code",
   "execution_count": 13,
   "id": "388cc1d0",
   "metadata": {},
   "outputs": [
    {
     "data": {
      "text/plain": [
       "(588101, 2)"
      ]
     },
     "execution_count": 13,
     "metadata": {},
     "output_type": "execute_result"
    }
   ],
   "source": [
    "df.shape"
   ]
  },
  {
   "cell_type": "code",
   "execution_count": 14,
   "id": "7cf86a6c",
   "metadata": {},
   "outputs": [
    {
     "data": {
      "text/html": [
       "<div>\n",
       "<style scoped>\n",
       "    .dataframe tbody tr th:only-of-type {\n",
       "        vertical-align: middle;\n",
       "    }\n",
       "\n",
       "    .dataframe tbody tr th {\n",
       "        vertical-align: top;\n",
       "    }\n",
       "\n",
       "    .dataframe thead th {\n",
       "        text-align: right;\n",
       "    }\n",
       "</style>\n",
       "<table border=\"1\" class=\"dataframe\">\n",
       "  <thead>\n",
       "    <tr style=\"text-align: right;\">\n",
       "      <th></th>\n",
       "      <th>total ads</th>\n",
       "      <th>most ads hour</th>\n",
       "    </tr>\n",
       "  </thead>\n",
       "  <tbody>\n",
       "    <tr>\n",
       "      <th>total ads</th>\n",
       "      <td>1.000000</td>\n",
       "      <td>-0.010837</td>\n",
       "    </tr>\n",
       "    <tr>\n",
       "      <th>most ads hour</th>\n",
       "      <td>-0.010837</td>\n",
       "      <td>1.000000</td>\n",
       "    </tr>\n",
       "  </tbody>\n",
       "</table>\n",
       "</div>"
      ],
      "text/plain": [
       "               total ads  most ads hour\n",
       "total ads       1.000000      -0.010837\n",
       "most ads hour  -0.010837       1.000000"
      ]
     },
     "execution_count": 14,
     "metadata": {},
     "output_type": "execute_result"
    }
   ],
   "source": [
    "df.corr()"
   ]
  },
  {
   "cell_type": "code",
   "execution_count": 15,
   "id": "8939c250",
   "metadata": {},
   "outputs": [
    {
     "data": {
      "text/plain": [
       "<seaborn.axisgrid.PairGrid at 0x272b81fb350>"
      ]
     },
     "execution_count": 15,
     "metadata": {},
     "output_type": "execute_result"
    },
    {
     "data": {
      "image/png": "[encoded data removed]",
      "text/plain": [
       "<Figure size 500x500 with 6 Axes>"
      ]
     },
     "metadata": {},
     "output_type": "display_data"
    }
   ],
   "source": [
    "sns.pairplot(df)"
   ]
  },
  {
   "cell_type": "markdown",
   "id": "b0448f3c",
   "metadata": {},
   "source": [
    "#### \n",
    "- The correlation is negative, given the sign infront of the figures. \n",
    "- The value -0.010837 is very close to 0, indicating a very weak correlation, implying no linear relationship between the variables."
   ]
  },
  {
   "cell_type": "code",
   "execution_count": null,
   "id": "acd142f0",
   "metadata": {},
   "outputs": [],
   "source": []
  }
 ],
 "metadata": {
  "kernelspec": {
   "display_name": "py3114",
   "language": "python",
   "name": "py3114"
  },
  "language_info": {
   "codemirror_mode": {
    "name": "ipython",
    "version": 3
   },
   "file_extension": ".py",
   "mimetype": "text/x-python",
   "name": "python",
   "nbconvert_exporter": "python",
   "pygments_lexer": "ipython3",
   "version": "3.11.4"
  }
 },
 "nbformat": 4,
 "nbformat_minor": 5
}
